{
  "nbformat": 4,
  "nbformat_minor": 0,
  "metadata": {
    "colab": {
      "provenance": []
    },
    "kernelspec": {
      "name": "python3",
      "display_name": "Python 3"
    },
    "language_info": {
      "name": "python"
    }
  },
  "cells": [
    {
      "cell_type": "code",
      "execution_count": null,
      "metadata": {
        "id": "yrEZiy8RPDDW"
      },
      "outputs": [],
      "source": [
        "import json\n",
        "import boto3\n",
        "import uuid\n",
        "\n",
        "dynamodb = boto3.resource('dynamodb')\n",
        "table = dynamodb.Table('pace_applications')  # Make sure table name matches exactly\n",
        "\n",
        "def lambda_handler(event, context):\n",
        "    try:\n",
        "        # For REST API (or HTTP API w/ integration settings)\n",
        "        if isinstance(event['body'], str):\n",
        "            body = json.loads(event['body'])\n",
        "        else:\n",
        "            body = event['body']\n",
        "\n",
        "        app_id = str(uuid.uuid4())\n",
        "\n",
        "        table.put_item(Item={\n",
        "            'application_id': app_id,\n",
        "            'full_name': body['full_name'],\n",
        "            'email': body['email'],\n",
        "            'education': body['education'],\n",
        "            'program': body['program']\n",
        "        })\n",
        "\n",
        "        return {\n",
        "            'statusCode': 200,\n",
        "            'body': json.dumps({'message': 'Application saved', 'application_id': app_id})\n",
        "        }\n",
        "\n",
        "    except Exception as e:\n",
        "        return {\n",
        "            'statusCode': 500,\n",
        "            'body': json.dumps({'error': str(e)})\n",
        "        }\n"
      ]
    },
    {
      "cell_type": "code",
      "source": [],
      "metadata": {
        "id": "ywRoPbkjRv_I"
      },
      "execution_count": null,
      "outputs": []
    },
    {
      "cell_type": "code",
      "source": [],
      "metadata": {
        "id": "yGnBahFPRyUh"
      },
      "execution_count": null,
      "outputs": []
    },
    {
      "cell_type": "code",
      "source": [],
      "metadata": {
        "id": "V7JeKYgfR-uM"
      },
      "execution_count": null,
      "outputs": []
    }
  ]
}